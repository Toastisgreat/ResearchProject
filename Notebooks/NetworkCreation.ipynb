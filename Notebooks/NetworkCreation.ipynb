{
 "cells": [
  {
   "cell_type": "code",
   "execution_count": 1,
   "id": "8f169e74",
   "metadata": {},
   "outputs": [],
   "source": [
    "import pandas as pd\n",
    "import seaborn as sns\n",
    "import numpy as np\n",
    "from math import floor, ceil\n",
    "import matplotlib.pyplot as plt\n",
    "import matplotlib.patches as patches\n",
    "import geopandas as gpd"
   ]
  },
  {
   "cell_type": "code",
   "execution_count": 5,
   "id": "18ba62a3",
   "metadata": {},
   "outputs": [],
   "source": [
    "df = pd.read_table(\"../RawDataSets/ebd_sancra_smp_relApr-2024.txt\", \n",
    "                   delimiter = '\\t', \n",
    "                   usecols = [\"LATITUDE\", \n",
    "                              \"LONGITUDE\", \n",
    "                              \"OBSERVATION DATE\", \n",
    "                              \"ALL SPECIES REPORTED\"])\n",
    "\n",
    "#When using for actual data, remove nrows = 10000\n",
    "df.columns = [col.title() for col in df.columns]\n",
    "df = df.rename(columns = {\"All Species Reported\": \"Observed\"})"
   ]
  },
  {
   "cell_type": "code",
   "execution_count": 6,
   "id": "04c4abe9",
   "metadata": {},
   "outputs": [
    {
     "data": {
      "text/html": [
       "<div>\n",
       "<style scoped>\n",
       "    .dataframe tbody tr th:only-of-type {\n",
       "        vertical-align: middle;\n",
       "    }\n",
       "\n",
       "    .dataframe tbody tr th {\n",
       "        vertical-align: top;\n",
       "    }\n",
       "\n",
       "    .dataframe thead th {\n",
       "        text-align: right;\n",
       "    }\n",
       "</style>\n",
       "<table border=\"1\" class=\"dataframe\">\n",
       "  <thead>\n",
       "    <tr style=\"text-align: right;\">\n",
       "      <th></th>\n",
       "      <th>Latitude</th>\n",
       "      <th>Longitude</th>\n",
       "      <th>Observation Date</th>\n",
       "      <th>Observed</th>\n",
       "      <th>Year</th>\n",
       "      <th>Month</th>\n",
       "      <th>Day</th>\n",
       "    </tr>\n",
       "  </thead>\n",
       "  <tbody>\n",
       "    <tr>\n",
       "      <th>0</th>\n",
       "      <td>32.316913</td>\n",
       "      <td>-64.744706</td>\n",
       "      <td>1993-10-28</td>\n",
       "      <td>1.0</td>\n",
       "      <td>1993</td>\n",
       "      <td>10</td>\n",
       "      <td>28</td>\n",
       "    </tr>\n",
       "    <tr>\n",
       "      <th>1</th>\n",
       "      <td>32.316913</td>\n",
       "      <td>-64.744706</td>\n",
       "      <td>1993-10-25</td>\n",
       "      <td>1.0</td>\n",
       "      <td>1993</td>\n",
       "      <td>10</td>\n",
       "      <td>25</td>\n",
       "    </tr>\n",
       "    <tr>\n",
       "      <th>2</th>\n",
       "      <td>32.307955</td>\n",
       "      <td>-64.754791</td>\n",
       "      <td>1993-10-15</td>\n",
       "      <td>0.0</td>\n",
       "      <td>1993</td>\n",
       "      <td>10</td>\n",
       "      <td>15</td>\n",
       "    </tr>\n",
       "    <tr>\n",
       "      <th>3</th>\n",
       "      <td>32.307955</td>\n",
       "      <td>-64.754791</td>\n",
       "      <td>1993-10-12</td>\n",
       "      <td>0.0</td>\n",
       "      <td>1993</td>\n",
       "      <td>10</td>\n",
       "      <td>12</td>\n",
       "    </tr>\n",
       "    <tr>\n",
       "      <th>4</th>\n",
       "      <td>32.375395</td>\n",
       "      <td>-64.660635</td>\n",
       "      <td>1993-10-09</td>\n",
       "      <td>0.0</td>\n",
       "      <td>1993</td>\n",
       "      <td>10</td>\n",
       "      <td>9</td>\n",
       "    </tr>\n",
       "  </tbody>\n",
       "</table>\n",
       "</div>"
      ],
      "text/plain": [
       "    Latitude  Longitude Observation Date  Observed  Year  Month  Day\n",
       "0  32.316913 -64.744706       1993-10-28       1.0  1993     10   28\n",
       "1  32.316913 -64.744706       1993-10-25       1.0  1993     10   25\n",
       "2  32.307955 -64.754791       1993-10-15       0.0  1993     10   15\n",
       "3  32.307955 -64.754791       1993-10-12       0.0  1993     10   12\n",
       "4  32.375395 -64.660635       1993-10-09       0.0  1993     10    9"
      ]
     },
     "execution_count": 6,
     "metadata": {},
     "output_type": "execute_result"
    }
   ],
   "source": [
    "df[[\"Year\", \"Month\", \"Day\"]] = df[\"Observation Date\"].str.split( '-', expand = True) # Split Date into Year, Month, Day\n",
    "\n",
    "df = df.dropna(subset = [\"Year\", \"Month\", \"Day\"]) # Remove NA Dates\n",
    "\n",
    "df[[\"Year\", \"Month\", \"Day\"]] = df[[\"Year\", \"Month\", \"Day\"]].astype(int) # Convert These to integers\n",
    "\n",
    "#df = df.query('2015 <= Year <= 2020') #Year above a certain point for time series analysis bc of lack of  data\n",
    "\n",
    "df = df.loc[(df[\"Longitude\"] <= -50) & (df[\"Longitude\"] >= -180)] #Focus on Just North America \n",
    "\n",
    "df.head()"
   ]
  },
  {
   "cell_type": "markdown",
   "id": "f325b0bf",
   "metadata": {},
   "source": [
    "### Note on Longitude and Latitude\n",
    "PLease for the love of god remember that Longitude is the X axis. The lines go up and down like an X intercept. \n",
    "All Coordinates should be of the form (Longitude, Latitude).\n"
   ]
  },
  {
   "cell_type": "code",
   "execution_count": 7,
   "id": "ab27bc4d",
   "metadata": {},
   "outputs": [
    {
     "data": {
      "text/plain": [
       "'\\nNext steps: \\n    Merge non meeting cells with those that do meet\\n    Compute Covariance Matrix \\n'"
      ]
     },
     "execution_count": 7,
     "metadata": {},
     "output_type": "execute_result"
    }
   ],
   "source": [
    "def check_cell(sample_size, cell_area, df):\n",
    "    #cell_area has the elkements (long lower bound, lat lower bound, height, width)\n",
    "    #sample_size has elements [Minimum observation count, minimum day count]\n",
    "    inlat = (df[\"Latitude\"] <= cell_area[1] + cell_area[3]) & (df[\"Latitude\"] >= cell_area[1])\n",
    "    inlong = (df[\"Longitude\"] <= cell_area[0] + cell_area[2]) & (df[\"Longitude\"] >= cell_area[0])\n",
    "    present = (df[\"Observed\"] == 1)\n",
    "    \n",
    "    temp = df[inlat & inlong & present].groupby([\"Year\", \"Month\", \"Day\"]).size().reset_index(name = 'count')\n",
    "    return len(temp) > sample_size[1]\n",
    "\n",
    "def expand_cells(cell_breaks, length):\n",
    "    pointer = 0\n",
    "    while cell_breaks[pointer] + length < cell_breaks[-1]:\n",
    "        cell_breaks.insert(pointer + 1, cell_breaks[pointer] + length)\n",
    "        pointer += 1\n",
    "    return cell_breaks\n",
    "\n",
    "min_long = floor(min(df[\"Longitude\"])) \n",
    "max_long = ceil(max(df[\"Longitude\"]))\n",
    "min_lat = floor(min(df[\"Latitude\"]))\n",
    "max_lat = ceil(max(df[\"Latitude\"]))\n",
    "\n",
    "maxes = (max_lat, max_long)\n",
    "mins = (min_lat, min_long)\n",
    "cells_long = [min_long, max_long]\n",
    "cells_lat = [min_lat, max_lat]\n",
    "\n",
    "cells_long = expand_cells(cells_long,  1)\n",
    "cells_lat = expand_cells(cells_lat, 1)\n",
    "\n",
    "all_cells = []\n",
    "for j in range(len(cells_lat) - 1):\n",
    "    for i in range(len(cells_long) - 1):\n",
    "        all_cells.append([ cells_long[i], cells_lat[j], 1, 1])\n",
    "\n",
    "        \n",
    "all_cells = np.array(all_cells)\n",
    "'''\n",
    "Next steps: \n",
    "    Merge non meeting cells with those that do meet\n",
    "    Compute Covariance Matrix \n",
    "'''"
   ]
  },
  {
   "cell_type": "code",
   "execution_count": 7,
   "id": "9ca09cd5",
   "metadata": {},
   "outputs": [],
   "source": [
    "GoodCells = []\n",
    "for cell in all_cells:\n",
    "    GoodCells.append([\n",
    "        (cell[0], cell[1]), check_cell([30,60], cell, df)])\n"
   ]
  },
  {
   "cell_type": "code",
   "execution_count": 14,
   "id": "f79b7ca0",
   "metadata": {
    "scrolled": false
   },
   "outputs": [
    {
     "name": "stderr",
     "output_type": "stream",
     "text": [
      "C:\\Users\\bobby\\AppData\\Local\\Temp\\ipykernel_31704\\759076050.py:4: FutureWarning: The geopandas.dataset module is deprecated and will be removed in GeoPandas 1.0. You can get the original 'naturalearth_lowres' data from https://www.naturalearthdata.com/downloads/110m-cultural-vectors/.\n",
      "  countries = gpd.read_file(gpd.datasets.get_path(\"naturalearth_lowres\"))\n"
     ]
    },
    {
     "ename": "NameError",
     "evalue": "name 'GoodCells' is not defined",
     "output_type": "error",
     "traceback": [
      "\u001b[1;31m---------------------------------------------------------------------------\u001b[0m",
      "\u001b[1;31mNameError\u001b[0m                                 Traceback (most recent call last)",
      "Cell \u001b[1;32mIn[14], line 6\u001b[0m\n\u001b[0;32m      4\u001b[0m countries \u001b[38;5;241m=\u001b[39m gpd\u001b[38;5;241m.\u001b[39mread_file(gpd\u001b[38;5;241m.\u001b[39mdatasets\u001b[38;5;241m.\u001b[39mget_path(\u001b[38;5;124m\"\u001b[39m\u001b[38;5;124mnaturalearth_lowres\u001b[39m\u001b[38;5;124m\"\u001b[39m))\n\u001b[0;32m      5\u001b[0m countries[countries[\u001b[38;5;124m\"\u001b[39m\u001b[38;5;124mcontinent\u001b[39m\u001b[38;5;124m\"\u001b[39m] \u001b[38;5;241m==\u001b[39m \u001b[38;5;124m\"\u001b[39m\u001b[38;5;124mNorth America\u001b[39m\u001b[38;5;124m\"\u001b[39m]\u001b[38;5;241m.\u001b[39mplot(ax \u001b[38;5;241m=\u001b[39m ax, color \u001b[38;5;241m=\u001b[39m \u001b[38;5;124m\"\u001b[39m\u001b[38;5;124mlightgray\u001b[39m\u001b[38;5;124m\"\u001b[39m)\n\u001b[1;32m----> 6\u001b[0m \u001b[38;5;28;01mfor\u001b[39;00m cell, goodness \u001b[38;5;129;01min\u001b[39;00m \u001b[43mGoodCells\u001b[49m:\n\u001b[0;32m      7\u001b[0m     rect \u001b[38;5;241m=\u001b[39m patches\u001b[38;5;241m.\u001b[39mRectangle(cell, \u001b[38;5;241m1\u001b[39m,\u001b[38;5;241m1\u001b[39m, linewidth \u001b[38;5;241m=\u001b[39m \u001b[38;5;241m.1\u001b[39m, edgecolor \u001b[38;5;241m=\u001b[39m \u001b[38;5;124m'\u001b[39m\u001b[38;5;124mblack\u001b[39m\u001b[38;5;124m'\u001b[39m, facecolor \u001b[38;5;241m=\u001b[39m red(goodness))\n\u001b[0;32m      9\u001b[0m     ax\u001b[38;5;241m.\u001b[39madd_patch(rect)\n",
      "\u001b[1;31mNameError\u001b[0m: name 'GoodCells' is not defined"
     ]
    },
    {
     "data": {
      "image/png": "[encoded data removed]",
      "text/plain": [
       "<Figure size 640x480 with 1 Axes>"
      ]
     },
     "metadata": {},
     "output_type": "display_data"
    }
   ],
   "source": [
    "red = lambda good: 'blue' if good == True else 'none'\n",
    "fig = plt.figure()\n",
    "ax = fig.add_subplot(111)\n",
    "countries = gpd.read_file(gpd.datasets.get_path(\"naturalearth_lowres\"))\n",
    "countries[countries[\"continent\"] == \"North America\"].plot(ax = ax, color = \"lightgray\")\n",
    "for cell, goodness in GoodCells:\n",
    "    rect = patches.Rectangle(cell, 1,1, linewidth = .1, edgecolor = 'black', facecolor = red(goodness))\n",
    "    \n",
    "    ax.add_patch(rect)\n",
    "ax.autoscale()\n",
    "plt.ylim((18, 85))\n",
    "plt.xlim((-180, -48))\n",
    "plt.show()"
   ]
  },
  {
   "cell_type": "code",
   "execution_count": 9,
   "id": "f7d29ad4",
   "metadata": {},
   "outputs": [
    {
     "data": {
      "text/plain": [
       "<Axes: xlabel='Year', ylabel='Month'>"
      ]
     },
     "execution_count": 9,
     "metadata": {},
     "output_type": "execute_result"
    },
    {
     "data": {
      "image/png": "[encoded data removed]",
      "text/plain": [
       "<Figure size 640x480 with 2 Axes>"
      ]
     },
     "metadata": {},
     "output_type": "display_data"
    }
   ],
   "source": [
    "sns.histplot(data = df, x = \"Year\", y = \"Month\", binwidth = 1, discrete = (True, True), cbar = True)\n"
   ]
  },
  {
   "cell_type": "code",
   "execution_count": 8,
   "id": "91a968ec",
   "metadata": {},
   "outputs": [],
   "source": [
    "def merge_cells_eastwest(cell_list, longwest, latwest, longeast, lateast):\n",
    "    #steps: Find the east and west row index\n",
    "    westindex = np.where((cell_list[:,0] == longwest) & (cell_list[:,1] == latwest))[0][0]\n",
    "    eastindex = np.where((cell_list[:,0] == longeast) & (cell_list[:,1] == lateast))[0][0]\n",
    "    \n",
    "    #add east width to west width\n",
    "    cell_list[westindex, 2] = cell_list[westindex,2] + cell_list[eastindex, 2]\n",
    "    \n",
    "    #delete the east index\n",
    "    cell_list = np.delete(cell_list, eastindex, axis = 0)\n",
    "\n",
    "    return cell_list\n",
    "\n",
    "def merge_cells_northsouth(cell_list, lat, height):\n",
    "    #Lat is the southern cells Latitude\n",
    "    #Height is the height of the southern cell\n",
    "    \n",
    "    newlat = lat + height\n",
    "    \n",
    "    #Find cells directly above\n",
    "    to_merge = cell_list[cell_list[:,1] == newlat]\n",
    "    \n",
    "    #find breaks \n",
    "    breaks = to_merge[:, (0,2,3)]\n",
    "    \n",
    "    #Remove all old cells\n",
    "    cell_list = cell_list[(cell_list[:, 1] != newlat) & (cell_list[:,1] != lat)]\n",
    "    \n",
    "    #Create new array\n",
    "    merged = np.insert(breaks, 1, lat, axis = 1)\n",
    "    merged[:, 3] = merged[:, 3] + height\n",
    " \n",
    "    \n",
    "    return np.concatenate((cell_list, merged))\n",
    "\n",
    "def search_cells(cell_list, sample_size,df = df):\n",
    "    #Each cell should be formatted as: (longmin, latmin, width, height)\n",
    "    rowno = 0\n",
    "    while rowno < cell_list.shape[0]:\n",
    "        cell = cell_list[rowno, :]\n",
    "        good = check_cell(sample_size, cell, df)\n",
    "        #ORder of Checks for not good cells:\n",
    "        #First, Check if there is a cell directly east, if so merge\n",
    "        #Second, because there is no cell directly east, we check if there is a cell to the west. If so merge\n",
    "        #Finally, if no cells east or west, then we have a latitude band\n",
    "            #To deal with this, we look north first, if we have a row above us, then we extend that row down by height degrees\n",
    "            #If we looked north and there is no row, do the same thing but with south. \n",
    "        \n",
    "        #If not check.size == 0 sees whether or not the array is empty. I use this bc north south merges \n",
    "        #can be complex so it maintains formatting.\n",
    "        \n",
    "        if not good: # THis means the cell needs to be merged\n",
    "            #Check east.\n",
    "            east_check = cell_list[(cell_list[:, 0] == cell[0] + cell[2]) & (cell_list[:, 1] == cell[1])].flatten()\n",
    "            if not east_check.size == 0:\n",
    "                cell_list = merge_cells_eastwest(cell_list, cell[0], cell[1], east_check[0], east_check[1])\n",
    "            else:\n",
    "                #Check West\n",
    "                west_check = cell_list[(cell_list[:,0] + cell_list[:, 2] == cell[0]) & (cell_list[:, 1] == cell[1])].flatten()\n",
    "                if not west_check.size == 0:\n",
    "                    cell_list = merge_cells_eastwest(cell_list, west_check[0], west_check[1], cell[0], cell[1])\n",
    "                \n",
    "                else:\n",
    "                    #We have a lateral band, so we want to look above/below and expand that row.\n",
    "                    north_check = cell_list[(cell_list[:, 1] == cell[1] + cell[3])].flatten()\n",
    "                    if not north_check.size == 0:\n",
    "                        cell_list = merge_cells_northsouth(cell_list, cell[1], cell[3])\n",
    "                        \n",
    "                    else:\n",
    "                        #We have nothing above, so we want to see which row touches the bottom.\n",
    "                        south_check = cell_list[((cell_list[:, 1] + cell_list[:, 3]) == cell[1])]\n",
    "                        cell_list = merge_cells_northsouth(cell_list, south_check[0,1], south_check[0,3])\n",
    "        rowno += 1\n",
    "    return cell_list\n"
   ]
  },
  {
   "cell_type": "code",
   "execution_count": null,
   "id": "0c9433c8",
   "metadata": {},
   "outputs": [],
   "source": [
    "red = lambda good: 'blue' if good == True else 'none'\n",
    "GoodNewCells = pd.DataFrame(data = new, columns = [\"Long\", \"Lat\", \"Width\", \"Height\"])\n",
    "GoodNewCells[\"Goodness\"] = GoodNewCells.apply(lambda g: check_cell([30,60], g, df), axis = 1)\n",
    "GoodNewCells[\"geometry\"] = GoodNewCells.apply(lambda g: patches.Rectangle((g[0], g[1]), g[2], g[3], linewidth = 0.1, edgecolor = \"black\", facecolor = red(g[4])), axis = 1)\n",
    "\n",
    "\n",
    "fig = plt.figure()\n",
    "ax = fig.add_subplot(111)\n",
    "countries = gpd.read_file(gpd.datasets.get_path(\"naturalearth_lowres\"))\n",
    "countries[countries[\"continent\"] == \"North America\"].plot(ax = ax, color = \"lightgray\")\n",
    "\n",
    "for shape in GoodNewCells.geometry:\n",
    "    ax.add_patch(shape)\n",
    "\n",
    "ax.autoscale()\n",
    "plt.ylim((18, 85))\n",
    "plt.xlim((-180, -48))\n",
    "plt.show()"
   ]
  },
  {
   "cell_type": "code",
   "execution_count": null,
   "id": "34a44200",
   "metadata": {},
   "outputs": [],
   "source": [
    "fig, ax = plt.subplots(3,2, figsize = (18,27))\n",
    "\n",
    "countries[countries[\"continent\"] == \"North America\"].plot(ax = ax[0,0], color = \"lightgray\")\n",
    "for cell, goodness in GoodCells:\n",
    "    rect = patches.Rectangle(cell, 1,1, linewidth = .1, edgecolor = 'black', facecolor = red(goodness))\n",
    "    \n",
    "    ax[0,0].add_patch(rect)\n",
    "\n",
    "ax[0, 0].title.set_text(f'Iteration 0')\n",
    "ax[0, 0].set_xlim((-180,-45))\n",
    "ax[0, 0].set_ylim((18,85))\n",
    "for i in range(1,6):\n",
    "    col = i % 2\n",
    "    row = i // 2\n",
    "    countries[countries[\"continent\"] == \"North America\"].plot(ax = ax[row, col], color = \"lightgray\")\n",
    "    if i == 1:\n",
    "        new = search_cells(all_cells, [30, 60], df)\n",
    "    else:\n",
    "        new = search_cells(new, [30, 60], df)\n",
    "    \n",
    "    GoodNewCells = pd.DataFrame(data = new, columns = [\"Long\", \"Lat\", \"Width\", \"Height\"])\n",
    "    GoodNewCells[\"Goodness\"] = GoodNewCells.apply(lambda g: check_cell([30,60], g, df), axis = 1)\n",
    "    GoodNewCells[\"geometry\"] = GoodNewCells.apply(lambda g: patches.Rectangle((g[0], g[1]), g[2], g[3], linewidth = 0.1, edgecolor = \"black\", facecolor = red(g[4])), axis = 1)\n",
    "    \n",
    "    for shape in GoodNewCells.geometry:\n",
    "        ax[row, col].add_patch(shape)\n",
    "        \n",
    "    ax[row, col].title.set_text(f'Iteration {i}')\n",
    "    ax[row, col].set_xlim((-180,-45))\n",
    "    ax[row, col].set_ylim((18,85))\n",
    "plt.show()"
   ]
  },
  {
   "cell_type": "code",
   "execution_count": 10,
   "id": "b5c16af1",
   "metadata": {},
   "outputs": [],
   "source": [
    "prev = all_cells\n",
    "while True:\n",
    "    curr = search_cells(prev, [30,180], df)\n",
    "    if curr.size == prev.size:\n",
    "        break\n",
    "    else:\n",
    "        prev = curr\n",
    "    "
   ]
  },
  {
   "cell_type": "code",
   "execution_count": 16,
   "id": "a671610c",
   "metadata": {},
   "outputs": [
    {
     "data": {
      "image/png": "[encoded data removed]",
      "text/plain": [
       "<Figure size 640x480 with 1 Axes>"
      ]
     },
     "metadata": {},
     "output_type": "display_data"
    }
   ],
   "source": [
    "red = lambda good: 'blue' if good == True else 'none'\n",
    "Cells = pd.DataFrame(data = curr, columns = [\"Long\", \"Lat\", \"Width\", \"Height\"])\n",
    "Cells[\"Goodness\"] = Cells.apply(lambda g: check_cell([30,180], g, df), axis = 1)\n",
    "Cells[\"geometry\"] = Cells.apply(lambda g: patches.Rectangle((g[0], g[1]), g[2], g[3], linewidth = 0.1, edgecolor = \"black\", facecolor = red(g[4])), axis = 1)\n",
    "\n",
    "\n",
    "fig = plt.figure()\n",
    "ax = fig.add_subplot(111)\n",
    "countries[countries[\"continent\"] == \"North America\"].plot(ax = ax, color = \"lightgray\")\n",
    "\n",
    "for shape in Cells.geometry:\n",
    "    ax.add_patch(shape)\n",
    "\n",
    "ax.autoscale()\n",
    "plt.ylim((18, 85))\n",
    "plt.xlim((-180, -48))\n",
    "plt.show()"
   ]
  },
  {
   "cell_type": "code",
   "execution_count": 22,
   "id": "5def77d1",
   "metadata": {},
   "outputs": [],
   "source": [
    "import networkx as nx\n",
    "\n",
    "g = nx.Graph()"
   ]
  },
  {
   "cell_type": "code",
   "execution_count": 17,
   "id": "b3429d37",
   "metadata": {},
   "outputs": [
    {
     "data": {
      "text/html": [
       "<div>\n",
       "<style scoped>\n",
       "    .dataframe tbody tr th:only-of-type {\n",
       "        vertical-align: middle;\n",
       "    }\n",
       "\n",
       "    .dataframe tbody tr th {\n",
       "        vertical-align: top;\n",
       "    }\n",
       "\n",
       "    .dataframe thead th {\n",
       "        text-align: right;\n",
       "    }\n",
       "</style>\n",
       "<table border=\"1\" class=\"dataframe\">\n",
       "  <thead>\n",
       "    <tr style=\"text-align: right;\">\n",
       "      <th></th>\n",
       "      <th>Long</th>\n",
       "      <th>Lat</th>\n",
       "      <th>Width</th>\n",
       "      <th>Height</th>\n",
       "      <th>Goodness</th>\n",
       "      <th>geometry</th>\n",
       "      <th>id</th>\n",
       "      <th>LatMax</th>\n",
       "      <th>LongMax</th>\n",
       "    </tr>\n",
       "  </thead>\n",
       "  <tbody>\n",
       "    <tr>\n",
       "      <th>0</th>\n",
       "      <td>-180</td>\n",
       "      <td>26</td>\n",
       "      <td>82</td>\n",
       "      <td>1</td>\n",
       "      <td>True</td>\n",
       "      <td>Rectangle(xy=(-180, 26), width=82, height=1, a...</td>\n",
       "      <td>0</td>\n",
       "      <td>27</td>\n",
       "      <td>-98</td>\n",
       "    </tr>\n",
       "    <tr>\n",
       "      <th>1</th>\n",
       "      <td>-98</td>\n",
       "      <td>26</td>\n",
       "      <td>1</td>\n",
       "      <td>1</td>\n",
       "      <td>True</td>\n",
       "      <td>Rectangle(xy=(-98, 26), width=1, height=1, ang...</td>\n",
       "      <td>1</td>\n",
       "      <td>27</td>\n",
       "      <td>-97</td>\n",
       "    </tr>\n",
       "    <tr>\n",
       "      <th>2</th>\n",
       "      <td>-97</td>\n",
       "      <td>26</td>\n",
       "      <td>15</td>\n",
       "      <td>1</td>\n",
       "      <td>True</td>\n",
       "      <td>Rectangle(xy=(-97, 26), width=15, height=1, an...</td>\n",
       "      <td>2</td>\n",
       "      <td>27</td>\n",
       "      <td>-82</td>\n",
       "    </tr>\n",
       "    <tr>\n",
       "      <th>3</th>\n",
       "      <td>-82</td>\n",
       "      <td>26</td>\n",
       "      <td>1</td>\n",
       "      <td>1</td>\n",
       "      <td>True</td>\n",
       "      <td>Rectangle(xy=(-82, 26), width=1, height=1, ang...</td>\n",
       "      <td>3</td>\n",
       "      <td>27</td>\n",
       "      <td>-81</td>\n",
       "    </tr>\n",
       "    <tr>\n",
       "      <th>4</th>\n",
       "      <td>-81</td>\n",
       "      <td>26</td>\n",
       "      <td>29</td>\n",
       "      <td>1</td>\n",
       "      <td>True</td>\n",
       "      <td>Rectangle(xy=(-81, 26), width=29, height=1, an...</td>\n",
       "      <td>4</td>\n",
       "      <td>27</td>\n",
       "      <td>-52</td>\n",
       "    </tr>\n",
       "  </tbody>\n",
       "</table>\n",
       "</div>"
      ],
      "text/plain": [
       "   Long  Lat  Width  Height  Goodness  \\\n",
       "0  -180   26     82       1      True   \n",
       "1   -98   26      1       1      True   \n",
       "2   -97   26     15       1      True   \n",
       "3   -82   26      1       1      True   \n",
       "4   -81   26     29       1      True   \n",
       "\n",
       "                                            geometry  id  LatMax  LongMax  \n",
       "0  Rectangle(xy=(-180, 26), width=82, height=1, a...   0      27      -98  \n",
       "1  Rectangle(xy=(-98, 26), width=1, height=1, ang...   1      27      -97  \n",
       "2  Rectangle(xy=(-97, 26), width=15, height=1, an...   2      27      -82  \n",
       "3  Rectangle(xy=(-82, 26), width=1, height=1, ang...   3      27      -81  \n",
       "4  Rectangle(xy=(-81, 26), width=29, height=1, an...   4      27      -52  "
      ]
     },
     "execution_count": 17,
     "metadata": {},
     "output_type": "execute_result"
    }
   ],
   "source": [
    "def check_touching_cells(cell, cell_list):\n",
    "    cell_list = cell_list[cell_list['id'] != cell[6]]\n",
    "    edges = []\n",
    "    for index, cell2 in cell_list.iterrows():\n",
    "        if cell2[1] == cell[1] and cell2[0] + cell2[2] == cell[0]: \n",
    "                #If they are in the same row, and touch horisontally\n",
    "                edges.append([cell[6], cell2[6]])\n",
    "        elif cell2[1] + cell2[3] == cell[1]:\n",
    "            if cell2[0] >= cell[0] and cell2[0] <= cell[0] + cell[2]:\n",
    "                #If cell2 touches cell from the bottom and cell2 starts in the middle of cell\n",
    "                edges.append([cell[6], cell2[6]])\n",
    "            elif cell2[0] + cell2[2] >= cell[0] and cell2[0] + cell2[2]  <= cell[0] + cell[2]:\n",
    "                edges.append([cell[6], cell2[6]])\n",
    "            elif cell2[0] <= cell[0] and cell2[0] <= cell[0] + cell[2] and cell2[0] + cell2[2] >= cell[0] and cell2[0] + cell2[2] >= cell[0] + cell[2]:\n",
    "                edges.append([cell[6], cell2[6]])\n",
    "    \n",
    "    return edges\n",
    "Cells['id'] = np.arange(len(Cells))\n",
    "Cells['LatMax'] = Cells['Lat'] + Cells['Height']\n",
    "Cells['LongMax'] = Cells['Long'] + Cells['Width']\n",
    "Cells.head()"
   ]
  },
  {
   "cell_type": "code",
   "execution_count": 23,
   "id": "1290502e",
   "metadata": {},
   "outputs": [],
   "source": [
    "g.add_nodes_from([i for i in range(len(Cells))])"
   ]
  },
  {
   "cell_type": "code",
   "execution_count": null,
   "id": "726290a1",
   "metadata": {},
   "outputs": [],
   "source": []
  },
  {
   "cell_type": "code",
   "execution_count": 18,
   "id": "4adfaf05",
   "metadata": {},
   "outputs": [],
   "source": [
    "dates = df[\"Observation Date\"].unique()\n",
    "CellList = np.arange(len(Cells))\n",
    "all_time_cells = [[cell, date] for cell in CellList for date in dates]\n",
    "Countdf = pd.DataFrame(data = all_time_cells, columns = ['ID', \"Observation Date\"])"
   ]
  },
  {
   "cell_type": "code",
   "execution_count": 19,
   "id": "1a499444",
   "metadata": {},
   "outputs": [],
   "source": [
    "def find_cell(cell, Cells = Cells):\n",
    "    inlat = (Cells['Lat'] < cell.Latitude) & (Cells[\"LatMax\"] >= cell.Latitude)\n",
    "    inlong = (Cells['Long'] < cell.Longitude) & (Cells[\"LongMax\"] >= cell.Longitude)\n",
    "    temp = Cells[inlat & inlong]\n",
    "    if len(temp) > 0:   return temp.id.item()\n",
    "    else:   return 99999 #No idea why this is nessecary tbh\n",
    "\n",
    "df[\"Cell\"] = df.apply(find_cell, axis = 1)"
   ]
  },
  {
   "cell_type": "code",
   "execution_count": 30,
   "id": "36d252ca",
   "metadata": {},
   "outputs": [
    {
     "name": "stdout",
     "output_type": "stream",
     "text": [
      "0\n"
     ]
    }
   ],
   "source": [
    "#Check overlap between cells\n",
    "count = 0\n",
    "for index, row in Cells.iterrows():\n",
    "    overlap = Cells.drop(index, axis = 0)\n",
    "    inlat = (overlap['Lat'] < row.Lat) & (overlap[\"LatMax\"] > row.Lat)\n",
    "    inlong = (overlap['Long'] < row.Long) & (overlap[\"LongMax\"] > row.Long)\n",
    "    overlap = overlap[inlat & inlong]\n",
    "    if len(overlap) > 0:\n",
    "        count += 1\n",
    "print(count)"
   ]
  },
  {
   "cell_type": "code",
   "execution_count": 20,
   "id": "185219bb",
   "metadata": {},
   "outputs": [
    {
     "data": {
      "text/html": [
       "<div>\n",
       "<style scoped>\n",
       "    .dataframe tbody tr th:only-of-type {\n",
       "        vertical-align: middle;\n",
       "    }\n",
       "\n",
       "    .dataframe tbody tr th {\n",
       "        vertical-align: top;\n",
       "    }\n",
       "\n",
       "    .dataframe thead th {\n",
       "        text-align: right;\n",
       "    }\n",
       "</style>\n",
       "<table border=\"1\" class=\"dataframe\">\n",
       "  <thead>\n",
       "    <tr style=\"text-align: right;\">\n",
       "      <th></th>\n",
       "      <th>Cell</th>\n",
       "      <th>Observation Date</th>\n",
       "    </tr>\n",
       "  </thead>\n",
       "  <tbody>\n",
       "    <tr>\n",
       "      <th>0</th>\n",
       "      <td>57</td>\n",
       "      <td>1993-10-28</td>\n",
       "    </tr>\n",
       "    <tr>\n",
       "      <th>1</th>\n",
       "      <td>57</td>\n",
       "      <td>1993-10-25</td>\n",
       "    </tr>\n",
       "    <tr>\n",
       "      <th>2</th>\n",
       "      <td>57</td>\n",
       "      <td>1993-10-15</td>\n",
       "    </tr>\n",
       "    <tr>\n",
       "      <th>3</th>\n",
       "      <td>57</td>\n",
       "      <td>1993-10-12</td>\n",
       "    </tr>\n",
       "    <tr>\n",
       "      <th>4</th>\n",
       "      <td>57</td>\n",
       "      <td>1993-10-09</td>\n",
       "    </tr>\n",
       "  </tbody>\n",
       "</table>\n",
       "</div>"
      ],
      "text/plain": [
       "   Cell Observation Date\n",
       "0    57       1993-10-28\n",
       "1    57       1993-10-25\n",
       "2    57       1993-10-15\n",
       "3    57       1993-10-12\n",
       "4    57       1993-10-09"
      ]
     },
     "execution_count": 20,
     "metadata": {},
     "output_type": "execute_result"
    }
   ],
   "source": [
    "CountFrame = df[[\"Cell\", \"Observation Date\"]]\n",
    "CountFrame.head()"
   ]
  },
  {
   "cell_type": "code",
   "execution_count": 21,
   "id": "69c25912",
   "metadata": {},
   "outputs": [],
   "source": [
    "CountFrame.to_csv(\"../NetworkDataSets/SHCFull.csv\")"
   ]
  },
  {
   "cell_type": "code",
   "execution_count": null,
   "id": "2b604313",
   "metadata": {},
   "outputs": [],
   "source": [
    "def cell_time_count(cell, time, df = df, Cells= Cells):\n",
    "    cell = Cells.iloc[cell]\n",
    "    temp = df[df.TimeStamp == time]\n",
    "    return len(temp[(temp.Latitude <= cell[7]) & (temp.Latitude >= cell[0]) & (temp.Longitude <= cell[8]) & (temp.Longitude >= cell[1])])\n",
    "\n",
    "#Countdf['count'] = Countdf.apply(lambda c: cell_time_count(c.ID, c.TimeStamp), axis = 1)\n",
    "\n",
    "pos = {}\n",
    "for index, cell in Cells.iterrows():\n",
    "    pos[cell[6]] = ((2*cell[0] + cell[2])/2, (cell[1]))\n",
    "    g.add_edges_from(check_touching_cells(cell, Cells))"
   ]
  }
 ],
 "metadata": {
  "kernelspec": {
   "display_name": "Python 3 (ipykernel)",
   "language": "python",
   "name": "python3"
  },
  "language_info": {
   "codemirror_mode": {
    "name": "ipython",
    "version": 3
   },
   "file_extension": ".py",
   "mimetype": "text/x-python",
   "name": "python",
   "nbconvert_exporter": "python",
   "pygments_lexer": "ipython3",
   "version": "3.11.4"
  }
 },
 "nbformat": 4,
 "nbformat_minor": 5
}
